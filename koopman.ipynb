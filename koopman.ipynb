{
 "cells": [
  {
   "cell_type": "code",
   "execution_count": null,
   "metadata": {},
   "outputs": [],
   "source": [
    "import pykoop\n",
    "from sklearn.preprocessing import MaxAbsScaler, StandardScaler\n",
    "from locomotion.envs.gym_envs import A1GymEnv\n",
    "import numpy as np\n",
    "from tqdm import tqdm"
   ]
  },
  {
   "cell_type": "code",
   "execution_count": null,
   "metadata": {},
   "outputs": [],
   "source": [
    "def generate_data(num_episodes, len_episode):\n",
    "    env = A1GymEnv(action_limit=(0.75, 0.75, 0.75), render=False, on_rack=False)\n",
    "\n",
    "    X_train = []\n",
    "\n",
    "    for episode in tqdm(range(num_episodes)):\n",
    "        st = env.reset()\n",
    "        for t in range(len_episode):\n",
    "            at = env.action_space.sample()\n",
    "            st_1, reward, done, info = env.step(at)\n",
    "\n",
    "            X_train.append(np.concatenate(([episode], st, at), axis=0))\n",
    "\n",
    "            st = st_1\n",
    "\n",
    "    X_train = np.array(X_train)\n",
    "    env.close()\n",
    "\n",
    "    return X_train"
   ]
  },
  {
   "cell_type": "code",
   "execution_count": null,
   "metadata": {},
   "outputs": [],
   "source": [
    "kp = pykoop.KoopmanPipeline(\n",
    "    lifting_functions=[\n",
    "        ('ma', pykoop.SkLearnLiftingFn(MaxAbsScaler())),\n",
    "        ('pl', pykoop.PolynomialLiftingFn(order=3)),\n",
    "        ('ss', pykoop.SkLearnLiftingFn(StandardScaler())),\n",
    "    ],\n",
    "    regressor=pykoop.Edmd(alpha=1),\n",
    ")\n",
    "\n",
    "for i in range(10):\n",
    "    X_train = generate_data(1, 10)\n",
    "    kp.fit(\n",
    "        X_train,\n",
    "        n_inputs=12,\n",
    "        episode_feature=True,\n",
    "    )\n",
    "    X_val = generate_data(10, 100)\n",
    "    # Equation Error\n",
    "    X_pred = kp.predict(X_val)\n",
    "    ee = np.sum((X_val[:, 1:20] - X_pred[:, 1:])**2)/(X_pred.shape[0])\n",
    "\n",
    "    # Simulation Error\n",
    "    X_pred = kp.predict_trajectory(X_val)\n",
    "    se = np.sum((X_val[:, 1:20] - X_pred[:, 1:])**2)/(X_pred.shape[0])\n",
    "\n",
    "    print(ee, se)"
   ]
  }
 ],
 "metadata": {
  "kernelspec": {
   "display_name": "venv",
   "language": "python",
   "name": "python3"
  },
  "language_info": {
   "codemirror_mode": {
    "name": "ipython",
    "version": 3
   },
   "file_extension": ".py",
   "mimetype": "text/x-python",
   "name": "python",
   "nbconvert_exporter": "python",
   "pygments_lexer": "ipython3",
   "version": "3.8.0"
  },
  "orig_nbformat": 4
 },
 "nbformat": 4,
 "nbformat_minor": 2
}
