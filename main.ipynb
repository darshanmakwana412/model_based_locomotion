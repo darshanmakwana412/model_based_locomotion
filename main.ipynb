{
 "cells": [
  {
   "cell_type": "code",
   "execution_count": null,
   "metadata": {},
   "outputs": [],
   "source": [
    "from stable_baselines3 import A2C, PPO\n",
    "from locomotion.robots import robot_config\n",
    "from tqdm import tqdm\n",
    "import gym\n",
    "import numpy as np\n",
    "import os\n",
    "\n",
    "# model_dir = \"./models/PPO\"\n",
    "# log_dir = \"./logs\"\n",
    "\n",
    "# if not os.path.exists(model_dir):\n",
    "#     os.makedirs(model_dir)\n",
    "\n",
    "# if not os.path.exists(log_dir):\n",
    "#     os.makedirs(log_dir)"
   ]
  },
  {
   "cell_type": "code",
   "execution_count": null,
   "metadata": {},
   "outputs": [],
   "source": [
    "env = gym.make('locomotion:A1GymEnv-v1', render=False)\n",
    "env.reset()\n",
    "\n",
    "model = PPO(\"MlpPolicy\", env, verbose=1, tensorboard_log=log_dir)\n",
    "\n",
    "TIMESTEPS = 10000\n",
    "for i in range(1, 100):\n",
    "    model.learn(total_timesteps=TIMESTEPS, reset_num_timesteps=False, tb_log_name=\"PPO\")\n",
    "    model.save(f\"{model_dir}/{TIMESTEPS*i}\")\n",
    "\n",
    "episodes = 10\n",
    "\n",
    "env.close()"
   ]
  },
  {
   "cell_type": "code",
   "execution_count": null,
   "metadata": {},
   "outputs": [],
   "source": [
    "env = gym.make('locomotion:A1GymEnv-v1', render=True)\n",
    "env.reset()\n",
    "\n",
    "# model_pth = f\"{model_dir}/850000.zip\"\n",
    "model_pth = f\"./artifacts/swimmer.zip\"\n",
    "model = A2C.load(model_pth, env)\n",
    "\n",
    "obs = env.reset()\n",
    "done = False\n",
    "while True:\n",
    "    action, _ = model.predict(obs)\n",
    "    obs, reward, done, info = env.step(action)\n",
    "\n",
    "env.close()"
   ]
  },
  {
   "cell_type": "code",
   "execution_count": null,
   "metadata": {},
   "outputs": [],
   "source": [
    "env = gym.make('locomotion:A1GymEnv-v1', render=True)\n",
    "obs = env.reset()\n",
    "\n",
    "done = False\n",
    "while True:\n",
    "    action = np.load(\"./action.npy\")\n",
    "    obs, reward, done, info = env.step(action)\n",
    "    np.save(\"./state.npy\", obs)\n",
    "    break\n",
    "env.close()"
   ]
  },
  {
   "cell_type": "code",
   "execution_count": null,
   "metadata": {},
   "outputs": [],
   "source": [
    "env = gym.make('locomotion:A1GymEnv-v1', render=True)\n",
    "obs = env.reset()\n",
    "env.close()"
   ]
  },
  {
   "cell_type": "code",
   "execution_count": null,
   "metadata": {},
   "outputs": [],
   "source": [
    "env.action_space.sample()"
   ]
  }
 ],
 "metadata": {
  "kernelspec": {
   "display_name": "venv",
   "language": "python",
   "name": "python3"
  },
  "language_info": {
   "codemirror_mode": {
    "name": "ipython",
    "version": 3
   },
   "file_extension": ".py",
   "mimetype": "text/x-python",
   "name": "python",
   "nbconvert_exporter": "python",
   "pygments_lexer": "ipython3",
   "version": "3.8.0"
  },
  "orig_nbformat": 4
 },
 "nbformat": 4,
 "nbformat_minor": 2
}
