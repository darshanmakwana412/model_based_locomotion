{
 "cells": [
  {
   "cell_type": "code",
   "execution_count": 1,
   "metadata": {},
   "outputs": [],
   "source": [
    "from locomotion.envs.gym_envs import A1GymEnv\n",
    "import numpy as np\n",
    "from tqdm import tqdm"
   ]
  },
  {
   "cell_type": "code",
   "execution_count": 2,
   "metadata": {},
   "outputs": [
    {
     "name": "stderr",
     "output_type": "stream",
     "text": [
      "c:\\Users\\darsh\\Desktop\\model_based_locomotion\\venv\\lib\\site-packages\\gym\\logger.py:30: UserWarning: \u001b[33mWARN: Box bound precision lowered by casting to float32\u001b[0m\n",
      "  warnings.warn(colorize('%s: %s'%('WARN', msg % args), 'yellow'))\n",
      "100%|██████████| 10000/10000 [00:14<00:00, 676.64it/s]\n"
     ]
    }
   ],
   "source": [
    "# Data without substracting the mean and the standard deviation, without adding 0 mean gaussian noise\n",
    "\n",
    "env = A1GymEnv(action_limit=(0.75, 0.75, 0.75), render=False, on_rack=False)\n",
    "\n",
    "T = 10000\n",
    "\n",
    "s = []\n",
    "a = []\n",
    "st = env.reset()\n",
    "s.append(st)\n",
    "for t in tqdm(range(T)):\n",
    "    at = env.action_space.sample()\n",
    "\n",
    "    st_1, reward, done, info = env.step(at)\n",
    "\n",
    "    # s.append(st)\n",
    "    a.append(at)\n",
    "\n",
    "    # X.append(np.concatenate((st, at), axis=0))\n",
    "    # y.append(st_1 - st)\n",
    "\n",
    "    st = st_1\n",
    "\n",
    "    s.append(st)\n",
    "\n",
    "env.close()\n",
    "\n",
    "np.save(\"./data/pred_state.npy\", np.array(s))\n",
    "np.save(\"./data/pred_action.npy\", np.array(a))"
   ]
  }
 ],
 "metadata": {
  "kernelspec": {
   "display_name": "venv",
   "language": "python",
   "name": "python3"
  },
  "language_info": {
   "codemirror_mode": {
    "name": "ipython",
    "version": 3
   },
   "file_extension": ".py",
   "mimetype": "text/x-python",
   "name": "python",
   "nbconvert_exporter": "python",
   "pygments_lexer": "ipython3",
   "version": "3.8.0"
  },
  "orig_nbformat": 4
 },
 "nbformat": 4,
 "nbformat_minor": 2
}
