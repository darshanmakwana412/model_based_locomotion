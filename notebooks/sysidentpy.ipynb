{
 "cells": [
  {
   "cell_type": "code",
   "execution_count": null,
   "metadata": {},
   "outputs": [],
   "source": [
    "from torch import nn\n",
    "import numpy as np\n",
    "import pandas as pd\n",
    "import matplotlib.pyplot as plt\n",
    "from sysidentpy.metrics import root_relative_squared_error\n",
    "from sysidentpy.utils.generate_data import get_siso_data\n",
    "\n",
    "\n",
    "# Generate a dataset of a simulated dynamical system\n",
    "x_train, x_valid, y_train, y_valid = get_siso_data(\n",
    "  n=1000,\n",
    "  colored_noise=False,\n",
    "  sigma=0.001,\n",
    "  train_percentage=80\n",
    ")"
   ]
  },
  {
   "cell_type": "code",
   "execution_count": null,
   "metadata": {},
   "outputs": [],
   "source": [
    "x_train = np.array([[0.232, 8.2734], [0.3487, 2.3267], [0.4273, 1.267], [4.355, 3.749], [12.43, 5.238]])\n",
    "y_train = np.array([[1.1288, 5.236], [-2.127, 7.1263], [3.328, 9.267], [-9.267, 8.2367], [9.5, 9.126]])"
   ]
  },
  {
   "cell_type": "code",
   "execution_count": null,
   "metadata": {},
   "outputs": [],
   "source": [
    "from sysidentpy.model_structure_selection import FROLS\n",
    "from sysidentpy.basis_function import Polynomial\n",
    "from sysidentpy.utils.display_results import results\n",
    "from sysidentpy.utils.plotting import plot_residues_correlation, plot_results\n",
    "from sysidentpy.residues.residues_correlation import compute_residues_autocorrelation\n",
    "from sysidentpy.residues.residues_correlation import compute_cross_correlation\n",
    "\n",
    "basis_function=Polynomial(degree=2)\n",
    "model = FROLS(\n",
    "  order_selection=True,\n",
    "  n_info_values=1,\n",
    "  extended_least_squares=False,\n",
    "  ylag=[[1]]*2, xlag=[[1]]*2,\n",
    "  info_criteria='aic',\n",
    "  estimator='least_squares',\n",
    "  basis_function=basis_function\n",
    ")\n",
    "model.fit(X=x_train, y=y_train)"
   ]
  },
  {
   "cell_type": "code",
   "execution_count": null,
   "metadata": {},
   "outputs": [],
   "source": [
    "yhat = model.predict(X=x_valid, y=y_valid)\n",
    "rrse = root_relative_squared_error(y_valid, yhat)\n",
    "print(rrse)\n",
    "r = pd.DataFrame(\n",
    "\tresults(\n",
    "\t\tmodel.final_model, model.theta, model.err,\n",
    "\t\tmodel.n_terms, err_precision=8, dtype='sci'\n",
    "\t\t),\n",
    "\tcolumns=['Regressors', 'Parameters', 'ERR'])\n",
    "print(r)"
   ]
  },
  {
   "cell_type": "code",
   "execution_count": null,
   "metadata": {},
   "outputs": [],
   "source": [
    "plot_results(y=y_valid, yhat=yhat, n=1000)\n",
    "ee = compute_residues_autocorrelation(y_valid, yhat)\n",
    "plot_residues_correlation(data=ee, title=\"Residues\", ylabel=\"$e^2$\")\n",
    "x1e = compute_cross_correlation(y_valid, yhat, x_valid)\n",
    "plot_residues_correlation(data=x1e, title=\"Residues\", ylabel=\"$x_1e$\")"
   ]
  }
 ],
 "metadata": {
  "kernelspec": {
   "display_name": "venv",
   "language": "python",
   "name": "python3"
  },
  "language_info": {
   "codemirror_mode": {
    "name": "ipython",
    "version": 3
   },
   "file_extension": ".py",
   "mimetype": "text/x-python",
   "name": "python",
   "nbconvert_exporter": "python",
   "pygments_lexer": "ipython3",
   "version": "3.8.0"
  },
  "orig_nbformat": 4
 },
 "nbformat": 4,
 "nbformat_minor": 2
}
