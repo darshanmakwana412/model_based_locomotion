{
 "cells": [
  {
   "cell_type": "code",
   "execution_count": 1,
   "metadata": {},
   "outputs": [],
   "source": [
    "from locomotion.envs.gym_envs import A1GymEnv\n",
    "from tqdm import tqdm\n",
    "import numpy as np"
   ]
  },
  {
   "cell_type": "code",
   "execution_count": 2,
   "metadata": {},
   "outputs": [
    {
     "name": "stderr",
     "output_type": "stream",
     "text": [
      "c:\\Users\\darsh\\anaconda3\\envs\\mbrl\\lib\\site-packages\\gym\\logger.py:30: UserWarning: \u001b[33mWARN: Box bound precision lowered by casting to float32\u001b[0m\n",
      "  warnings.warn(colorize('%s: %s'%('WARN', msg % args), 'yellow'))\n",
      "100%|██████████| 1000/1000 [02:39<00:00,  6.26it/s]\n"
     ]
    }
   ],
   "source": [
    "env = A1GymEnv(action_limit=(0.75, 0.75, 0.75), render=False, on_rack=False, lateralFriction=0.7)\n",
    "num_episodes = 1000\n",
    "len_episodes = 100\n",
    "\n",
    "X = []\n",
    "y = []\n",
    "for episode in tqdm(range(num_episodes)):\n",
    "    st = env.reset()\n",
    "\n",
    "    for step in range(len_episodes):\n",
    "        at = env.action_space.sample()\n",
    "        at = np.concatenate([at[:6], [0]*6])\n",
    "        st_1, reward, done, info = env.step(at)\n",
    "\n",
    "        X.append(np.concatenate((st, at), axis=0))\n",
    "        y.append(st_1 - st)\n",
    "\n",
    "        st = st_1\n",
    "\n",
    "env.close()\n",
    "\n",
    "np.save(\"./data/X.npy\", np.array(X))\n",
    "np.save(\"./data/y.npy\", np.array(y))"
   ]
  }
 ],
 "metadata": {
  "kernelspec": {
   "display_name": "venv",
   "language": "python",
   "name": "python3"
  },
  "language_info": {
   "codemirror_mode": {
    "name": "ipython",
    "version": 3
   },
   "file_extension": ".py",
   "mimetype": "text/x-python",
   "name": "python",
   "nbconvert_exporter": "python",
   "pygments_lexer": "ipython3",
   "version": "3.8.16"
  },
  "orig_nbformat": 4
 },
 "nbformat": 4,
 "nbformat_minor": 2
}
